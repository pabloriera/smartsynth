{
 "cells": [
  {
   "cell_type": "code",
   "execution_count": 1,
   "metadata": {
    "collapsed": false
   },
   "outputs": [],
   "source": [
    "from utils import *"
   ]
  },
  {
   "cell_type": "code",
   "execution_count": 2,
   "metadata": {
    "collapsed": false
   },
   "outputs": [
    {
     "name": "stdout",
     "output_type": "stream",
     "text": [
      "2016-12-20 21:10:18.685671 Boot\n"
     ]
    }
   ],
   "source": [
    "disp('Boot')"
   ]
  },
  {
   "cell_type": "code",
   "execution_count": 3,
   "metadata": {
    "collapsed": false
   },
   "outputs": [
    {
     "name": "stdout",
     "output_type": "stream",
     "text": [
      "2016-12-20 21:10:18.761983 Performance options\n"
     ]
    }
   ],
   "source": [
    "command = \"\"\"sh performance.sh\"\"\"\n",
    "disp('Performance options')\n",
    "run_command(command,'logs/log.jack')"
   ]
  },
  {
   "cell_type": "code",
   "execution_count": 4,
   "metadata": {
    "collapsed": false,
    "scrolled": true
   },
   "outputs": [
    {
     "name": "stdout",
     "output_type": "stream",
     "text": [
      "2016-12-20 21:10:18.897109 Jack\n"
     ]
    }
   ],
   "source": [
    "command = \"\"\"sh jack.sh\"\"\"\n",
    "disp('Jack')\n",
    "run_command(command,'logs/log.jack')"
   ]
  },
  {
   "cell_type": "code",
   "execution_count": 5,
   "metadata": {
    "collapsed": false
   },
   "outputs": [
    {
     "name": "stdout",
     "output_type": "stream",
     "text": [
      "2016-12-20 21:10:19.034827 SClang\n"
     ]
    }
   ],
   "source": [
    "command = \"\"\"sclang -D /home/miles/smartsynth/scinit.scd\"\"\"\n",
    "disp('SClang')\n",
    "run_command(command,'logs/log.sclang')\n",
    "sleep(20) # Time in seconds."
   ]
  },
  {
   "cell_type": "code",
   "execution_count": 6,
   "metadata": {
    "collapsed": false
   },
   "outputs": [
    {
     "name": "stdout",
     "output_type": "stream",
     "text": [
      "2016-12-20 21:10:39.208051 AConnect\n"
     ]
    }
   ],
   "source": [
    "command = \"\"\"aconnect 'SL MkII':0 SuperCollider:0\"\"\"\n",
    "disp('AConnect')\n",
    "run_command(command,'logs/log.aconnect')"
   ]
  },
  {
   "cell_type": "code",
   "execution_count": 7,
   "metadata": {
    "collapsed": true
   },
   "outputs": [],
   "source": []
  }
 ],
 "metadata": {
  "kernelspec": {
   "display_name": "Python 3",
   "language": "python",
   "name": "python3"
  },
  "language_info": {
   "codemirror_mode": {
    "name": "ipython",
    "version": 3
   },
   "file_extension": ".py",
   "mimetype": "text/x-python",
   "name": "python",
   "nbconvert_exporter": "python",
   "pygments_lexer": "ipython3",
   "version": "3.5.2"
  }
 },
 "nbformat": 4,
 "nbformat_minor": 2
}
